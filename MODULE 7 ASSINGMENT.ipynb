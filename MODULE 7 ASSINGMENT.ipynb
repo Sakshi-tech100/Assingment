{
 "cells": [
  {
   "cell_type": "markdown",
   "id": "98677f22-dc86-4a37-858d-9460edb916c4",
   "metadata": {},
   "source": [
    "#1) What are the five key concepts of Object-Oriented Programming (OOP)?\n",
    "ANS- classes/objects, encapsulation/data hiding, inheritance, polymorphism, and interfaces/methods."
   ]
  },
  {
   "cell_type": "code",
   "execution_count": 24,
   "id": "5e8b780b-37ce-4260-a0c0-fd6eb6aadd6d",
   "metadata": {},
   "outputs": [],
   "source": [
    "#2) Write a Python class for a `Car` with attributes for `make`, `model`, and `year`. Include a method to display\n",
    "#the car's information.?\n",
    "\n",
    "class car(object):\n",
    "    def __init__(self, make, model, year):\n",
    "        self.make = make\n",
    "        self.model = model\n",
    "    def __str__(self):\n",
    "        \n",
    "        return '%s %s %s' % (self.year, self.make, self.model)"
   ]
  },
  {
   "cell_type": "code",
   "execution_count": 28,
   "id": "320fe6e4-efd2-482e-aa6f-614090b295c6",
   "metadata": {},
   "outputs": [],
   "source": [
    "c1= car('Tesla', 'Model 3', '2018')"
   ]
  },
  {
   "cell_type": "code",
   "execution_count": 38,
   "id": "1a8b9624-be06-4f90-a13d-d421021fd9d9",
   "metadata": {},
   "outputs": [
    {
     "data": {
      "text/plain": [
       "<__main__.car at 0x266f4619f70>"
      ]
     },
     "execution_count": 38,
     "metadata": {},
     "output_type": "execute_result"
    }
   ],
   "source": [
    "c1"
   ]
  },
  {
   "cell_type": "raw",
   "id": "4ba2d3e7-1c5b-42c1-8f81-965b1dde1690",
   "metadata": {},
   "source": [
    "#3) Explain the difference between instance methods and class methods. Provide an example of each?\n",
    "ANS- Instance methods\n",
    "These methods are created from a specific object and can access the instance through self. \n",
    "They can read and modify the state of an object. Instance methods are the default choice for most methods within a class.\n",
    "Class methods\n",
    "These methods do not require a class instance and can access the class itself through cls. \n",
    "They can't access the instance (self). \n",
    "Class methods are useful for operations that involve the class as a whole, such as accessing or modifying class-level attributes or creating alternative constructors.\n"
   ]
  },
  {
   "cell_type": "raw",
   "id": "7cd84e36-4cc8-47f6-80a2-2e4531cbcabf",
   "metadata": {},
   "source": [
    "#4) How does Python implement method overloading? Give an example.?\n",
    "ANS- If you define multiple methods with the same name in a class, the last one defined will override any previous methods with the same name. \n",
    "In this example, the add method accepts a variable number of arguments using *args."
   ]
  },
  {
   "cell_type": "raw",
   "id": "f98eb2a0-7112-4f3e-ab03-072b543c7d1c",
   "metadata": {},
   "source": [
    "#5) What are the three types of access modifiers in Python? How are they denoted?\n",
    "ANS- Python supports three types of access modifiers which are public,private and protected. These access modifiers provide restrictions on the access of member variables and methods of the class from any object outside the class"
   ]
  },
  {
   "cell_type": "raw",
   "id": "266dc6bf-2bf1-4ff8-9972-41178ebf91cd",
   "metadata": {},
   "source": [
    "#6) Describe the five types of inheritance in Python. Provide a simple example of multiple inheritance?\n",
    "ANS-Types of Python Inheritance\n",
    "Single inheritance: In this type, a derived class inherits from only one base class.\n",
    "Multiple inheritance: In this inheritance, the derived class inherits from multiple base classes.\n",
    "Multi-level inheritance: In this, a derived class inherits another derived class."
   ]
  },
  {
   "cell_type": "raw",
   "id": "20259600-1732-4873-b3de-3ab5712be880",
   "metadata": {},
   "source": [
    "#7) What is the Method Resolution Order (MRO) in Python? How can you retrieve it programmatically??\n",
    "ANS- MRO determines the order in which base classes are searched when executing a method. It is determined using the C3 linearization algorithm, also known as C3 superclass linearization. You can view the MRO of a class using the __mro__ attribute or the mro() method"
   ]
  },
  {
   "cell_type": "code",
   "execution_count": 52,
   "id": "63419576-1572-4817-9cd8-2d4bd630b85d",
   "metadata": {},
   "outputs": [],
   "source": [
    "#8)  Create an abstract base class `Shape` with an abstract method `area()`. Then create two subclasses\n",
    "#`Circle` and `Rectangle` that implement the `area()` method.?\n",
    "from abc import ABC, abstractmethod\n",
    "import math\n",
    "\n",
    "class Shape(ABC):\n",
    "    @abstractmethod\n",
    "    def area(self):\n",
    "        pass\n",
    "class Circle(Shape):\n",
    "    def __init__(self, radius):\n",
    "        self.radius = radius\n",
    "\n",
    "    def area(self):\n",
    "        return math.pi * (self.radius ** 2)\n",
    "\n",
    "class Rectangle(Shape):\n",
    "    def __init__(self, width, height):\n",
    "        self.width = width\n",
    "        self.height = height\n",
    "    def area(self):\n",
    "        return self.width * self.height"
   ]
  },
  {
   "cell_type": "code",
   "execution_count": 54,
   "id": "62d0fdb8-ac0f-450d-8edb-fc7ca56b94b6",
   "metadata": {},
   "outputs": [
    {
     "name": "stdout",
     "output_type": "stream",
     "text": [
      "Area of Circle: 78.54\n",
      "Area of Rectangle: 24.00\n"
     ]
    }
   ],
   "source": [
    "circle = Circle(5)\n",
    "rectangle = Rectangle(4, 6)\n",
    "\n",
    "print(f\"Area of Circle: {circle.area():.2f}\")\n",
    "print(f\"Area of Rectangle: {rectangle.area():.2f}\")\n"
   ]
  },
  {
   "cell_type": "raw",
   "id": "3ded9b34-4ec5-4453-a791-6a2144aa16d0",
   "metadata": {},
   "source": [
    "#9) Demonstrate polymorphism by creating a function that can work with different shape objects to calculate\n",
    "#and print their areas.?\n",
    "ANS- In each subclass, implement the calculateArea() method to calculate the area of the specific shape. ...\n",
    "In a ShapeCalculator class (or in your main method), create instances of different shapes, including rectangles, circles, and triangles."
   ]
  },
  {
   "cell_type": "code",
   "execution_count": 60,
   "id": "9d45ecb8-4c54-4ff2-bf3a-1b8448d9c4bd",
   "metadata": {},
   "outputs": [],
   "source": [
    "#10) Implement encapsulation in a `BankAccount` class with private attributes for `balance` and\n",
    "#`account_number`. Include methods for deposit, withdrawal, and balance inquiry.?\n",
    "class BankAccount:\n",
    "        def __init__(self, account_number):\n",
    "            self.balance = 0.0\n",
    "            self.__account_number = account_number\n",
    "\n",
    "        def deposit(self, amount):\n",
    "            if amount > 0:\n",
    "                self.__balance += amount\n",
    "                print(f\"Deposited: ${amount:.2f}. New balance:${self.__balance:.2f}.\")\n",
    "            else:\n",
    "                print(\"Deposit amount must be positive.\")\n",
    "\n",
    "        def withdrawal(self, amount):\n",
    "            if 0 < amount <= self.__balance:\n",
    "                self.__balance -= amount\n",
    "                print(f\"Withdrew: ${amount:.2f}. New balance: ${self.__balance:.2f}.\")\n",
    "            else:\n",
    "                print(\"Invalid withdrawal amount.\")\n",
    "\n",
    "        def balance_inquiry(self):\n",
    "            print(f\"Current balance: ${self.__balance:.2f}.\")\n",
    "    "
   ]
  },
  {
   "cell_type": "code",
   "execution_count": 70,
   "id": "6a418706-cb98-4f94-bef4-05c70d812fcc",
   "metadata": {},
   "outputs": [
    {
     "name": "stdout",
     "output_type": "stream",
     "text": [
      "Deposited: $100.00. New balance:$100.00.\n",
      "Withdrew: $50.00. New balance: $50.00.\n"
     ]
    }
   ],
   "source": [
    "account=BankAccount(\"123456789\")\n",
    "account.deposit(100)\n",
    "account.withdrawal(50)"
   ]
  },
  {
   "cell_type": "code",
   "execution_count": 72,
   "id": "db36fa6b-c07b-4017-a28a-935c187367da",
   "metadata": {},
   "outputs": [
    {
     "name": "stdout",
     "output_type": "stream",
     "text": [
      "Current balance: $50.00.\n"
     ]
    }
   ],
   "source": [
    "account.balance_inquiry()"
   ]
  },
  {
   "cell_type": "code",
   "execution_count": 78,
   "id": "ede321ef-dae7-4358-b39a-1e853f76d785",
   "metadata": {},
   "outputs": [
    {
     "name": "stdout",
     "output_type": "stream",
     "text": [
      "Object `do` not found.\n"
     ]
    }
   ],
   "source": [
    "#11) Write a class that overrides the `__str__` and `__add__` magic methods. What will these methods allow\n",
    "you to do?\n",
    "class Point:\n",
    "    def __init__(self, x, y):\n",
    "        self.x = x\n",
    "        self.y = y\n",
    "\n",
    "    def __str__(self):\n",
    "        return f\"Point({self.x}, {self.y})\"\n",
    "        def __add__(self, other):\n",
    "            if isinstance(other, Point):\n",
    "                return Point(self.x + other.x, self.y + other.y)\n",
    "        return NotImplemented"
   ]
  },
  {
   "cell_type": "code",
   "execution_count": 86,
   "id": "3bc8fd01-836c-4c4c-8bb8-93b02289941f",
   "metadata": {},
   "outputs": [
    {
     "name": "stdout",
     "output_type": "stream",
     "text": [
      "Point(2, 3)\n",
      "Point(4, 5)\n"
     ]
    }
   ],
   "source": [
    "point1 = Point(2, 3)\n",
    "point2 = Point(4, 5)\n",
    "\n",
    "print(point1)  \n",
    "print(point2)"
   ]
  },
  {
   "cell_type": "code",
   "execution_count": 90,
   "id": "e3d1657c-9de5-4d68-b3a0-8b4295033cb7",
   "metadata": {},
   "outputs": [],
   "source": [
    "#12)Create a decorator that measures and prints the execution time of a function.?\n",
    "def time_it(func):\n",
    "    def wrapper(*args, **kwargs):\n",
    "        start_time = time.time()  # Record the start time\n",
    "        result = func(*args, **kwargs)  # Call the original function\n",
    "        end_time = time.time()  # Record the end time\n",
    "        execution_time = end_time - start_time  # Calculate the execution time\n",
    "        print(f\"Execution time: {execution_time:.4f} seconds\")\n",
    "        return result  # Return the result of the function\n",
    "    return wrapper"
   ]
  },
  {
   "cell_type": "code",
   "execution_count": 92,
   "id": "53cedf99-55dc-41b7-97a1-40869061a439",
   "metadata": {},
   "outputs": [],
   "source": [
    "@time_it\n",
    "def example_function():\n",
    "    time.sleep(2)"
   ]
  },
  {
   "cell_type": "raw",
   "id": "a893a77d-a729-4fbd-9260-91a06b72de54",
   "metadata": {},
   "source": [
    "#13 Explain the concept of the Diamond Problem in multiple inheritance. How does Python resolve it?\n",
    "ANS- The Diamond Problem is a classic issue that can occur in languages that support multiple inheritance, including Python. It arises when a class inherits from two or more classes that have a common ancestor. This can lead to ambiguity in method and attribute resolution"
   ]
  },
  {
   "cell_type": "raw",
   "id": "d1e7e321-f14f-40c4-892c-22bbc4191ac6",
   "metadata": {},
   "source": [
    "#14 Write a class method that keeps track of the number of instances created from a class.?\n",
    "\n",
    "ANS- n the __init__ method, we append each new instance of the class to the \"instances\" list. We can then use the built−in function len() to determine the total number of instances stored in the list. We create three instances of the class, and finally, we print the total number of instances created by calling len(MyClass"
   ]
  },
  {
   "cell_type": "code",
   "execution_count": 1,
   "id": "d6dddc97-b31b-4d3f-aa8e-6249a6c4c6c3",
   "metadata": {},
   "outputs": [],
   "source": [
    "#15 Implement a static method in a class that checks if a given year is a leap year?\n",
    "class YearChecker:\n",
    "    @staticmethod\n",
    "    def is_leap_year(year):\n",
    "        if (year % 4 == 0 and year % 100 != 0) or (year % 400 == 0):\n",
    "            return True\n",
    "        return False"
   ]
  },
  {
   "cell_type": "code",
   "execution_count": 3,
   "id": "7b71beca-9dbe-409a-a7c5-7222c1cb92b9",
   "metadata": {},
   "outputs": [
    {
     "name": "stdout",
     "output_type": "stream",
     "text": [
      "2024 is a leap year.\n"
     ]
    }
   ],
   "source": [
    "year = 2024\n",
    "if YearChecker.is_leap_year(year):\n",
    "    print(f\"{year} is a leap year.\")\n",
    "else:\n",
    "    print(f\"{year} is not a leap year.\")\n"
   ]
  },
  {
   "cell_type": "code",
   "execution_count": null,
   "id": "56b81443-0a9b-4b8b-87cd-286395bfa6be",
   "metadata": {},
   "outputs": [],
   "source": []
  }
 ],
 "metadata": {
  "kernelspec": {
   "display_name": "Python 3 (ipykernel)",
   "language": "python",
   "name": "python3"
  },
  "language_info": {
   "codemirror_mode": {
    "name": "ipython",
    "version": 3
   },
   "file_extension": ".py",
   "mimetype": "text/x-python",
   "name": "python",
   "nbconvert_exporter": "python",
   "pygments_lexer": "ipython3",
   "version": "3.12.4"
  }
 },
 "nbformat": 4,
 "nbformat_minor": 5
}
