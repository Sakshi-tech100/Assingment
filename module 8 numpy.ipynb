{
 "cells": [
  {
   "cell_type": "markdown",
   "id": "ce56617b-470c-4e4e-9b03-67c46233fa96",
   "metadata": {},
   "source": [
    "## THEORY QUESTIONS-\n",
    "1.  Explain the purpose and advantages of NumPy in scientific computing and data analysis. How does it\n",
    "enhance Python's capabilities for numerical operations?\n",
    "ANS- NumPy arrays can execute advanced mathematical operations with large data sets more efficiently and with less code than when using Python's built-in lists. This is critical for scientific computing sequence, where size and speed are vital.\n",
    "\n",
    "2. Compare and contrast np.mean() and np.average() functions in NumPy. When would you use one over the\n",
    "other?\n",
    "ANS- The np. mean() method returns the arithmetic mean, but the np. average() function returns the algebraic mean if no additional parameters are specified, but it may also be used to compute a weighted average\n",
    "\n",
    "3. Describe the methods for reversing a NumPy array along different axes. Provide examples for 1D and 2D\n",
    "arrays.\n",
    "ANS- As we know Numpy is a general-purpose array-processing package that provides a high-performance multidimensional array object, and tools for working with these arrays. Let’s discuss how can we reverse a Numpy array. \n",
    "\n",
    "Using flip() function to Reverse a Numpy array\n",
    "The numpy.flip() function reverses the order of array elements along the specified axis, preserving the shape of the array.\n",
    "\n",
    "4.  How can you determine the data type of elements in a NumPy array? Discuss the importance of data types\n",
    "in memory management and performance.\n",
    "ANS- Checking the Data Type of NumPy Array\n",
    "We can check the datatype of Numpy array by using dtype. Then it returns the data type all the elements in the array. In the given example below we import NumPy library and craete an array using “array()” method with integer value.\n",
    "\n",
    "5. Define ndarrays in NumPy and explain their key features. How do they differ from standard Python lists?\n",
    "ANS- An ndarray is a (usually fixed-size) multidimensional container of items of the same type and size. The number of dimensions and items in an array is defined by its shape , which is a tuple of N non-negative integers that specify the sizes of each dimension.\n",
    "\n",
    "6.  Analyze the performance benefits of NumPy arrays over Python lists for large-scale numerical operations.\n",
    "ANS- NumPy arrays are homogeneous and contiguous in memory, allowing for optimized processing with compiled C code. This results in faster execution times for mathematical operations and array manipulations compared to Python lists, particularly when dealing with large datasets or complex numerical computations.\n",
    "\n",
    "7. Compare vstack() and hstack() functions in NumPy. Provide examples demonstrating their usage and\n",
    "output\n",
    "ANS- An HStack and a VStack are used to place other widgets in columns (HStack) or in rows (VStack). Both can be nested as much as needed to produce the desired layout.\n",
    "\n",
    "8.  Explain the differences between fliplr() and flipud() methods in NumPy, including their effects on various\n",
    "array dimensions.\n",
    "ANS- Fliplr(a) that corresponds to np. flip(a, axis=1) . flipud can only flip an array along the vertical axis and flip will flip along a given axis.\n",
    "\n",
    "9. Discuss the functionality of the array_split() method in NumPy. How does it handle uneven splits?\n",
    "ANS- Array_split() function allows uneven splits and handles any remaining elements. Efficiency: While numpy. split() divides the array into equal-sized sub-arrays, numpy. array_split() can handle uneven splits\n",
    "\n",
    "10. Explain the concepts of vectorization and broadcasting in NumPy. How do they contribute to efficient array\n",
    "operations?\n",
    "ANS- Broadcasting provides a means of vectorizing array operations so that looping occurs in C instead of Python. It does this without making needless copies of data and usually leads to efficient algorithm implementations."
   ]
  },
  {
   "cell_type": "code",
   "execution_count": 6,
   "id": "c152c89e-d408-4f01-be84-4a41c506327f",
   "metadata": {},
   "outputs": [],
   "source": [
    "# PRACTICAL QUESTIONS -\n",
    "#1 Create a 3x3 NumPy array with random integers between 1 and 100. Then, interchange its rows and columns.\n",
    "\n",
    "\n",
    "import numpy as np\n",
    "array = np.random.randint(low=0, high=10, size=(3, 3))\n",
    "\n"
   ]
  },
  {
   "cell_type": "code",
   "execution_count": 7,
   "id": "88e9f283-5b03-470d-8b29-a670e5d57f43",
   "metadata": {},
   "outputs": [
    {
     "name": "stdout",
     "output_type": "stream",
     "text": [
      "[[5 8 4]\n",
      " [4 3 1]\n",
      " [0 6 0]]\n"
     ]
    }
   ],
   "source": [
    "print(array)"
   ]
  },
  {
   "cell_type": "code",
   "execution_count": 8,
   "id": "43c7bd7f-fc14-4ef4-a796-d3c06becb1c4",
   "metadata": {},
   "outputs": [
    {
     "name": "stdout",
     "output_type": "stream",
     "text": [
      "1D Array: [0 1 2 3 4 5 6 7 8 9]\n",
      "2x5 Array:\n",
      " [[0 1 2 3 4]\n",
      " [5 6 7 8 9]]\n",
      "5x2 Array:\n",
      " [[0 1]\n",
      " [2 3]\n",
      " [4 5]\n",
      " [6 7]\n",
      " [8 9]]\n"
     ]
    }
   ],
   "source": [
    "#2 Generate a 1D NumPy array with 10 elements. Reshape it into a 2x5 array, then into a 5x2 array.\n",
    "\n",
    "import numpy as np\n",
    "\n",
    "# Step 1: Generate a 1D array with 10 elements\n",
    "array_1d = np.arange(10)\n",
    "\n",
    "# Step 2: Reshape it into a 2x5 array\n",
    "array_2x5 = array_1d.reshape(2, 5)\n",
    "\n",
    "# Step 3: Reshape it into a 5x2 array\n",
    "array_5x2 = array_2x5.reshape(5, 2)\n",
    "\n",
    "# Output the results\n",
    "print(\"1D Array:\", array_1d)\n",
    "print(\"2x5 Array:\\n\", array_2x5)\n",
    "print(\"5x2 Array:\\n\", array_5x2)\n"
   ]
  },
  {
   "cell_type": "code",
   "execution_count": 9,
   "id": "c57fddee-8733-46e2-992b-cd1dde9be324",
   "metadata": {},
   "outputs": [
    {
     "name": "stdout",
     "output_type": "stream",
     "text": [
      "4x4 Array with Random Floats:\n",
      " [[0.15725273 0.96094746 0.02036131 0.04812244]\n",
      " [0.52299678 0.95450635 0.98118917 0.04356345]\n",
      " [0.23566588 0.55342891 0.65300163 0.19803567]\n",
      " [0.64804999 0.62303857 0.38832121 0.79287554]]\n",
      "6x6 Array with Border of Zeros:\n",
      " [[0.         0.         0.         0.         0.         0.        ]\n",
      " [0.         0.15725273 0.96094746 0.02036131 0.04812244 0.        ]\n",
      " [0.         0.52299678 0.95450635 0.98118917 0.04356345 0.        ]\n",
      " [0.         0.23566588 0.55342891 0.65300163 0.19803567 0.        ]\n",
      " [0.         0.64804999 0.62303857 0.38832121 0.79287554 0.        ]\n",
      " [0.         0.         0.         0.         0.         0.        ]]\n"
     ]
    }
   ],
   "source": [
    "#3  Create a 4x4 NumPy array with random float values. Add a border of zeros around it, resulting in a 6x6 array\n",
    "import numpy as np\n",
    "\n",
    "# Step 1: Create a 4x4 array with random float values\n",
    "array_4x4 = np.random.rand(4, 4)\n",
    "\n",
    "# Step 2: Add a border of zeros around the 4x4 array\n",
    "array_with_border = np.pad(array_4x4, pad_width=1, mode='constant', constant_values=0)\n",
    "\n",
    "# Output the results\n",
    "print(\"4x4 Array with Random Floats:\\n\", array_4x4)\n",
    "print(\"6x6 Array with Border of Zeros:\\n\", array_with_border)\n"
   ]
  },
  {
   "cell_type": "code",
   "execution_count": 10,
   "id": "d685ef1d-9617-46fa-9d04-d95a658abf6d",
   "metadata": {},
   "outputs": [
    {
     "name": "stdout",
     "output_type": "stream",
     "text": [
      "Array of integers from 10 to 60 with a step of 5:\n",
      " [10 15 20 25 30 35 40 45 50 55 60]\n"
     ]
    }
   ],
   "source": [
    "#4 Using NumPy, create an array of integers from 10 to 60 with a step of 5.\n",
    "\n",
    "import numpy as np\n",
    "\n",
    "# Create an array of integers from 10 to 60 with a step of 5\n",
    "array = np.arange(10, 61, 5)\n",
    "\n",
    "# Output the result\n",
    "print(\"Array of integers from 10 to 60 with a step of 5:\\n\", array)\n",
    "\n"
   ]
  },
  {
   "cell_type": "code",
   "execution_count": 12,
   "id": "35de3d58-40f3-45cf-9f61-d72cb756fd40",
   "metadata": {},
   "outputs": [
    {
     "ename": "SyntaxError",
     "evalue": "invalid syntax. Perhaps you forgot a comma? (1775961873.py, line 2)",
     "output_type": "error",
     "traceback": [
      "\u001b[0;36m  Cell \u001b[0;32mIn[12], line 2\u001b[0;36m\u001b[0m\n\u001b[0;31m    (uppercase, lowercase, title case, etc.) to each element.\u001b[0m\n\u001b[0m                           ^\u001b[0m\n\u001b[0;31mSyntaxError\u001b[0m\u001b[0;31m:\u001b[0m invalid syntax. Perhaps you forgot a comma?\n"
     ]
    }
   ],
   "source": [
    "#5 Create a NumPy array of strings ['python', 'numpy', 'pandas']. Apply different case transformations\n",
    "(uppercase, lowercase, title case, etc.) to each element.\n",
    "\n",
    "import numpy as np\n",
    "\n",
    "# Step 1: Create an array of strings\n",
    "strings = np.array(['python', 'numpy', 'pandas'])\n",
    "\n",
    "# Step 2: Apply different case transformations\n",
    "uppercase = np.array([s.upper() for s in strings])  # Uppercase\n",
    "lowercase = np.array([s.lower() for s in strings])  # Lowercase\n",
    "titlecase = np.array([s.title() for s in strings])  # Title case\n",
    "capitalize = np.array([s.capitalize() for s in strings])  # Capitalize\n",
    "\n",
    "# Output the results\n",
    "print(\"Uppercase:\\n\", uppercase)\n",
    "print(\"Lowercase:\\n\", lowercase)\n",
    "print(\"Title Case:\\n\", titlecase)\n",
    "print(\"Capitalize:\\n\", capitalize)\n"
   ]
  },
  {
   "cell_type": "code",
   "execution_count": 13,
   "id": "7c517c18-d73d-4de9-b182-4fe216e91c09",
   "metadata": {},
   "outputs": [
    {
     "name": "stdout",
     "output_type": "stream",
     "text": [
      "Array of words with spaces between characters:\n",
      " ['h e l l o' 'w o r l d' 'n u m p y' 'a r r a y']\n"
     ]
    }
   ],
   "source": [
    "#6  Generate a NumPy array of words. Insert a space between each character of every word in the array.\n",
    "\n",
    "\n",
    "import numpy as np\n",
    "\n",
    "# Step 1: Create an array of words\n",
    "words = np.array(['hello', 'world', 'numpy', 'array'])\n",
    "\n",
    "# Step 2: Insert a space between each character of every word\n",
    "spaced_words = np.array([' '.join(word) for word in words])\n",
    "\n",
    "# Output the result\n",
    "print(\"Array of words with spaces between characters:\\n\", spaced_words)\n"
   ]
  },
  {
   "cell_type": "code",
   "execution_count": 14,
   "id": "9e16aacb-a91e-4d4b-8998-71c7406397b0",
   "metadata": {},
   "outputs": [
    {
     "name": "stdout",
     "output_type": "stream",
     "text": [
      "Addition:\n",
      " [[ 8 10 12]\n",
      " [14 16 18]]\n",
      "Subtraction:\n",
      " [[-6 -6 -6]\n",
      " [-6 -6 -6]]\n",
      "Multiplication:\n",
      " [[ 7 16 27]\n",
      " [40 55 72]]\n",
      "Division:\n",
      " [[0.14285714 0.25       0.33333333]\n",
      " [0.4        0.45454545 0.5       ]]\n"
     ]
    }
   ],
   "source": [
    "#7 Create two 2D NumPy arrays and perform element-wise addition, subtraction, multiplication, and division.\n",
    "import numpy as np\n",
    "\n",
    "# Step 1: Create two 2D NumPy arrays\n",
    "array1 = np.array([[1, 2, 3], [4, 5, 6]])\n",
    "array2 = np.array([[7, 8, 9], [10, 11, 12]])\n",
    "\n",
    "# Step 2: Perform element-wise operations\n",
    "addition = array1 + array2           # Addition\n",
    "subtraction = array1 - array2        # Subtraction\n",
    "multiplication = array1 * array2     # Multiplication\n",
    "division = array1 / array2           # Division\n",
    "\n",
    "# Output the results\n",
    "print(\"Addition:\\n\", addition)\n",
    "print(\"Subtraction:\\n\", subtraction)\n",
    "print(\"Multiplication:\\n\", multiplication)\n",
    "print(\"Division:\\n\", division)\n",
    "\n"
   ]
  },
  {
   "cell_type": "code",
   "execution_count": 15,
   "id": "ac92bc60-bb39-4de5-9693-d9d3d6b0deaf",
   "metadata": {},
   "outputs": [
    {
     "name": "stdout",
     "output_type": "stream",
     "text": [
      "Identity Matrix:\n",
      " [[1. 0. 0. 0. 0.]\n",
      " [0. 1. 0. 0. 0.]\n",
      " [0. 0. 1. 0. 0.]\n",
      " [0. 0. 0. 1. 0.]\n",
      " [0. 0. 0. 0. 1.]]\n",
      "Diagonal Elements: [1. 1. 1. 1. 1.]\n"
     ]
    }
   ],
   "source": [
    "#8 Use NumPy to create a 5x5 identity matrix, then extract its diagonal elements\n",
    "import numpy as np\n",
    "\n",
    "# Step 1: Create a 5x5 identity matrix\n",
    "identity_matrix = np.eye(5)\n",
    "\n",
    "# Step 2: Extract the diagonal elements\n",
    "diagonal_elements = identity_matrix.diagonal()\n",
    "\n",
    "# Output the results\n",
    "print(\"Identity Matrix:\\n\", identity_matrix)\n",
    "print(\"Diagonal Elements:\", diagonal_elements)\n",
    "\n"
   ]
  },
  {
   "cell_type": "code",
   "execution_count": 16,
   "id": "448e0faa-9519-4ebb-80f9-f67dc38332ea",
   "metadata": {},
   "outputs": [
    {
     "name": "stdout",
     "output_type": "stream",
     "text": [
      "Random Array: [  8 800 851 755 206 876 383  27 704 900 549  46 392 459 382 773 702 608\n",
      " 496 392 706 995 982 604 192 688 557 584 438 810 564 600 903 127 224 453\n",
      " 111 356 204 493 354 244 611 891 293  45 169 821 805 662 222 939 795 825\n",
      " 251 386 328 405 958 485 912 323 973 398 736 823 772  49 857 493 160 820\n",
      " 584 925 528 737 938 465 170 534 859 518 804 729  24 895 766 605 473 496\n",
      " 885 432  28 883 371 637 621 548 728 686]\n",
      "Prime Numbers: [383, 773, 557, 127, 293, 821, 251, 823, 857, 859, 883]\n"
     ]
    }
   ],
   "source": [
    "#9 Generate a NumPy array of 100 random integers between 0 and 1000. Find and display all prime numbers in\n",
    "#this array.\n",
    "import numpy as np\n",
    "\n",
    "# Step 1: Generate an array of 100 random integers between 0 and 1000\n",
    "random_array = np.random.randint(0, 1001, size=100)\n",
    "\n",
    "# Step 2: Define a function to check if a number is prime\n",
    "def is_prime(num):\n",
    "    if num <= 1:\n",
    "        return False\n",
    "    for i in range(2, int(num**0.5) + 1):\n",
    "        if num % i == 0:\n",
    "            return False\n",
    "    return True\n",
    "\n",
    "# Step 3: Find all prime numbers in the array\n",
    "prime_numbers = [num for num in random_array if is_prime(num)]\n",
    "\n",
    "# Output the results\n",
    "print(\"Random Array:\", random_array)\n",
    "print(\"Prime Numbers:\", prime_numbers)\n",
    "\n",
    "\n"
   ]
  },
  {
   "cell_type": "code",
   "execution_count": 19,
   "id": "3a9e7563-6454-4a65-b848-de202cfb3743",
   "metadata": {},
   "outputs": [
    {
     "ename": "ValueError",
     "evalue": "cannot reshape array of size 30 into shape (30,7)",
     "output_type": "error",
     "traceback": [
      "\u001b[0;31m---------------------------------------------------------------------------\u001b[0m",
      "\u001b[0;31mValueError\u001b[0m                                Traceback (most recent call last)",
      "Cell \u001b[0;32mIn[19], line 11\u001b[0m\n\u001b[1;32m      7\u001b[0m daily_temperatures \u001b[38;5;241m=\u001b[39m np\u001b[38;5;241m.\u001b[39mrandom\u001b[38;5;241m.\u001b[39mrandint(\u001b[38;5;241m0\u001b[39m, \u001b[38;5;241m101\u001b[39m, size\u001b[38;5;241m=\u001b[39m\u001b[38;5;241m30\u001b[39m)\n\u001b[1;32m      9\u001b[0m \u001b[38;5;66;03m# Step 2: Reshape the array into weeks (4 full weeks and 2 extra days)\u001b[39;00m\n\u001b[1;32m     10\u001b[0m \u001b[38;5;66;03m# We can make it 5 rows (weeks) and 7 columns (days), filling the last row with NaN\u001b[39;00m\n\u001b[0;32m---> 11\u001b[0m weekly_temperatures \u001b[38;5;241m=\u001b[39m \u001b[43mnp\u001b[49m\u001b[38;5;241;43m.\u001b[39;49m\u001b[43mreshape\u001b[49m\u001b[43m(\u001b[49m\u001b[43mdaily_temperatures\u001b[49m\u001b[43m,\u001b[49m\u001b[43m \u001b[49m\u001b[43m(\u001b[49m\u001b[38;5;241;43m30\u001b[39;49m\u001b[43m,\u001b[49m\u001b[43m \u001b[49m\u001b[38;5;241;43m7\u001b[39;49m\u001b[43m)\u001b[49m\u001b[43m)\u001b[49m\n\u001b[1;32m     13\u001b[0m \u001b[38;5;66;03m# Step 3: Calculate the weekly averages, ignoring NaN values\u001b[39;00m\n\u001b[1;32m     14\u001b[0m weekly_averages \u001b[38;5;241m=\u001b[39m np\u001b[38;5;241m.\u001b[39mnanmean(weekly_temperatures, axis\u001b[38;5;241m=\u001b[39m\u001b[38;5;241m1\u001b[39m)\n",
      "File \u001b[0;32m<__array_function__ internals>:180\u001b[0m, in \u001b[0;36mreshape\u001b[0;34m(*args, **kwargs)\u001b[0m\n",
      "File \u001b[0;32m/opt/conda/lib/python3.10/site-packages/numpy/core/fromnumeric.py:298\u001b[0m, in \u001b[0;36mreshape\u001b[0;34m(a, newshape, order)\u001b[0m\n\u001b[1;32m    198\u001b[0m \u001b[38;5;129m@array_function_dispatch\u001b[39m(_reshape_dispatcher)\n\u001b[1;32m    199\u001b[0m \u001b[38;5;28;01mdef\u001b[39;00m \u001b[38;5;21mreshape\u001b[39m(a, newshape, order\u001b[38;5;241m=\u001b[39m\u001b[38;5;124m'\u001b[39m\u001b[38;5;124mC\u001b[39m\u001b[38;5;124m'\u001b[39m):\n\u001b[1;32m    200\u001b[0m     \u001b[38;5;124;03m\"\"\"\u001b[39;00m\n\u001b[1;32m    201\u001b[0m \u001b[38;5;124;03m    Gives a new shape to an array without changing its data.\u001b[39;00m\n\u001b[1;32m    202\u001b[0m \n\u001b[0;32m   (...)\u001b[0m\n\u001b[1;32m    296\u001b[0m \u001b[38;5;124;03m           [5, 6]])\u001b[39;00m\n\u001b[1;32m    297\u001b[0m \u001b[38;5;124;03m    \"\"\"\u001b[39;00m\n\u001b[0;32m--> 298\u001b[0m     \u001b[38;5;28;01mreturn\u001b[39;00m \u001b[43m_wrapfunc\u001b[49m\u001b[43m(\u001b[49m\u001b[43ma\u001b[49m\u001b[43m,\u001b[49m\u001b[43m \u001b[49m\u001b[38;5;124;43m'\u001b[39;49m\u001b[38;5;124;43mreshape\u001b[39;49m\u001b[38;5;124;43m'\u001b[39;49m\u001b[43m,\u001b[49m\u001b[43m \u001b[49m\u001b[43mnewshape\u001b[49m\u001b[43m,\u001b[49m\u001b[43m \u001b[49m\u001b[43morder\u001b[49m\u001b[38;5;241;43m=\u001b[39;49m\u001b[43morder\u001b[49m\u001b[43m)\u001b[49m\n",
      "File \u001b[0;32m/opt/conda/lib/python3.10/site-packages/numpy/core/fromnumeric.py:57\u001b[0m, in \u001b[0;36m_wrapfunc\u001b[0;34m(obj, method, *args, **kwds)\u001b[0m\n\u001b[1;32m     54\u001b[0m     \u001b[38;5;28;01mreturn\u001b[39;00m _wrapit(obj, method, \u001b[38;5;241m*\u001b[39margs, \u001b[38;5;241m*\u001b[39m\u001b[38;5;241m*\u001b[39mkwds)\n\u001b[1;32m     56\u001b[0m \u001b[38;5;28;01mtry\u001b[39;00m:\n\u001b[0;32m---> 57\u001b[0m     \u001b[38;5;28;01mreturn\u001b[39;00m \u001b[43mbound\u001b[49m\u001b[43m(\u001b[49m\u001b[38;5;241;43m*\u001b[39;49m\u001b[43margs\u001b[49m\u001b[43m,\u001b[49m\u001b[43m \u001b[49m\u001b[38;5;241;43m*\u001b[39;49m\u001b[38;5;241;43m*\u001b[39;49m\u001b[43mkwds\u001b[49m\u001b[43m)\u001b[49m\n\u001b[1;32m     58\u001b[0m \u001b[38;5;28;01mexcept\u001b[39;00m \u001b[38;5;167;01mTypeError\u001b[39;00m:\n\u001b[1;32m     59\u001b[0m     \u001b[38;5;66;03m# A TypeError occurs if the object does have such a method in its\u001b[39;00m\n\u001b[1;32m     60\u001b[0m     \u001b[38;5;66;03m# class, but its signature is not identical to that of NumPy's. This\u001b[39;00m\n\u001b[0;32m   (...)\u001b[0m\n\u001b[1;32m     64\u001b[0m     \u001b[38;5;66;03m# Call _wrapit from within the except clause to ensure a potential\u001b[39;00m\n\u001b[1;32m     65\u001b[0m     \u001b[38;5;66;03m# exception has a traceback chain.\u001b[39;00m\n\u001b[1;32m     66\u001b[0m     \u001b[38;5;28;01mreturn\u001b[39;00m _wrapit(obj, method, \u001b[38;5;241m*\u001b[39margs, \u001b[38;5;241m*\u001b[39m\u001b[38;5;241m*\u001b[39mkwds)\n",
      "\u001b[0;31mValueError\u001b[0m: cannot reshape array of size 30 into shape (30,7)"
     ]
    }
   ],
   "source": [
    "#10 Create a NumPy array representing daily temperatures for a month. Calculate and display the weekly\n",
    "#averages.\n",
    "import numpy as np\n",
    "\n",
    "# Step 1: Create an array of daily temperatures for 30 days\n",
    "# For example, random temperatures between 0 and 100 degrees\n",
    "daily_temperatures = np.random.randint(0, 101, size=30)\n",
    "\n",
    "# Step 2: Reshape the array into weeks (4 full weeks and 2 extra days)\n",
    "# We can make it 5 rows (weeks) and 7 columns (days), filling the last row with NaN\n",
    "weekly_temperatures = np.reshape(daily_temperatures, (30, 7))\n",
    "\n",
    "# Step 3: Calculate the weekly averages, ignoring NaN values\n",
    "weekly_averages = np.nanmean(weekly_temperatures, axis=1)\n",
    "\n",
    "# Output the results\n",
    "print(\"Daily Temperatures for the Month:\", daily_temperatures)\n",
    "print(\"Weekly Temperatures:\\n\", weekly_temperatures)\n",
    "print(\"Weekly Averages:\", weekly_averages)\n",
    "\n"
   ]
  },
  {
   "cell_type": "code",
   "execution_count": null,
   "id": "53b0b363-37ce-4686-abea-4b24c30b3fe3",
   "metadata": {},
   "outputs": [],
   "source": []
  }
 ],
 "metadata": {
  "kernelspec": {
   "display_name": "Python 3 (ipykernel)",
   "language": "python",
   "name": "python3"
  },
  "language_info": {
   "codemirror_mode": {
    "name": "ipython",
    "version": 3
   },
   "file_extension": ".py",
   "mimetype": "text/x-python",
   "name": "python",
   "nbconvert_exporter": "python",
   "pygments_lexer": "ipython3",
   "version": "3.12.4"
  }
 },
 "nbformat": 4,
 "nbformat_minor": 5
}
