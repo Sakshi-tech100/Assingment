{
 "cells": [
  {
   "cell_type": "raw",
   "id": "0f998d2a-0670-4876-8784-2f1f5559e170",
   "metadata": {},
   "source": [
    "1. Discuss the scenarios where multithreading is preferable to multiprocessing and scenarios where\n",
    "multiprocessing is a better choice.\n",
    "ANS- Multithreading is ideal for tasks that are I/O-bound or require frequent access to shared data, as threads can efficiently communicate and synchronise access to shared resources. Multiprocessing: Best suited for CPU-intensive tasks that can be easily parallelised without frequent inter-process communication.\n",
    "\n",
    "2. Describe what a process pool is and how it helps in managing multiple processes efficiently.\n",
    "ANS- A process pool is a programming pattern for automatically managing a pool of workers. Instead of creating many processes that run and terminate, it can be more efficient to create a fixed number of worker processes and reuse them for a suite of tasks.\n",
    "\n",
    "3.  Explain what multiprocessing is and why it is used in Python programs.\n",
    "ANS- Multiprocessing in Python is a built-in package that allows the system to run multiple processes simultaneously. It will enable the breaking of applications into smaller threads that can run independently.\n",
    "\n",
    "\n"
   ]
  },
  {
   "cell_type": "code",
   "execution_count": 1,
   "id": "02e11508-2fb1-4f1d-a92c-a90d92562960",
   "metadata": {},
   "outputs": [
    {
     "name": "stdout",
     "output_type": "stream",
     "text": [
      "Iteration 0: x = 200000\n",
      "Iteration 1: x = 200000\n",
      "Iteration 2: x = 200000\n",
      "Iteration 3: x = 200000\n",
      "Iteration 4: x = 200000\n",
      "Iteration 5: x = 200000\n",
      "Iteration 6: x = 200000\n",
      "Iteration 7: x = 200000\n",
      "Iteration 8: x = 200000\n",
      "Iteration 9: x = 200000\n"
     ]
    }
   ],
   "source": [
    "#4. Write a Python program using multithreading where one thread adds numbers to a list, and another\n",
    "#thread removes numbers from the list. Implement a mechanism to avoid race conditions using\n",
    "#threading.Lock.\n",
    "\n",
    "import threading \n",
    "  \n",
    "# global variable x \n",
    "x = 0\n",
    "  \n",
    "def increment(): \n",
    "    \"\"\" \n",
    "    function to increment global variable x \n",
    "    \"\"\"\n",
    "    global x \n",
    "    x += 1\n",
    "  \n",
    "def thread_task(): \n",
    "    \"\"\" \n",
    "    task for thread \n",
    "    calls increment function 100000 times. \n",
    "    \"\"\"\n",
    "    for _ in range(100000): \n",
    "        increment() \n",
    "  \n",
    "def main_task(): \n",
    "    global x \n",
    "    # setting global variable x as 0 \n",
    "    x = 0\n",
    "  \n",
    "    # creating threads \n",
    "    t1 = threading.Thread(target=thread_task) \n",
    "    t2 = threading.Thread(target=thread_task) \n",
    "   # start threads \n",
    "    t1.start() \n",
    "    t2.start() \n",
    "  \n",
    "    # wait until threads finish their job \n",
    "    t1.join() \n",
    "    t2.join() \n",
    "  \n",
    "if __name__ == \"__main__\": \n",
    "    for i in range(10): \n",
    "        main_task() \n",
    "        print(\"Iteration {0}: x = {1}\".format(i,x)) \n",
    "\n"
   ]
  },
  {
   "cell_type": "raw",
   "id": "135dc057-f9cb-47e3-a46b-c2997bf5f28f",
   "metadata": {},
   "source": [
    "5. Describe the methods and tools available in Python for safely sharing data between threads and\n",
    "processes.\n",
    "ANS- Queue Module: Employ the queue module for thread-safe data sharing via queues. Thread-Safe Data Structures: Leverage collections module for thread-safe data structures like deque. Locks: Implement threading. Lock to synchronize access, preventing concurrent modifications.\n",
    "\n",
    "6. Discuss why it’s crucial to handle exceptions in concurrent programs and the techniques available for\n",
    "doing so.\n",
    "ANS- Exception handling is important for concurrent programs because it can prevent abnormal program termination and ensure application reliability: \n",
    " \n",
    "Exception handling prevents program crashes\n",
    "Exceptions can occur for a variety of reasons, including invalid user input, code errors, or device failure. Exception handling can help prevent these issues from crashing your program. \n",
    " \n",
    "Exception handling improves code readability and maintainability\n",
    "By separating error handling code from normal code, it's easier to maintain and reuse the exception handling code throughout the program. \n",
    " \n",
    "Automated exception handling tools provide debugging information\n",
    "These tools can record debugging information, such as the call stack and heap values, when an exception occurs. This information can help identify the root cause of the exception."
   ]
  },
  {
   "cell_type": "code",
   "execution_count": 3,
   "id": "149773c1-e0bb-4b78-a818-7b5f5653dec1",
   "metadata": {},
   "outputs": [
    {
     "name": "stdout",
     "output_type": "stream",
     "text": [
      "Cube of 2:8\n",
      "Cube of 3:27\n",
      "Cube of 4:64\n",
      "Cube of 5:125\n",
      "Cube of 6:216\n",
      "None\n",
      "None\n",
      "None\n",
      "None\n"
     ]
    }
   ],
   "source": [
    "#7 Create a program that uses a thread pool to calculate the factorial of numbers from 1 to 10 concurrently.\n",
    "#Use concurrent.futures.ThreadPoolExecutor to manage the threads.\n",
    "\n",
    "from concurrent.futures import ThreadPoolExecutor\n",
    "from time import sleep\n",
    "\n",
    "values = [3,4,5,6]\n",
    "\n",
    "def cube(x):\n",
    "    print(f'Cube of {x}:{x*x*x}')\n",
    "\n",
    "\n",
    "if __name__ == '__main__':\n",
    "    result =[]\n",
    "    with ThreadPoolExecutor(max_workers=5) as exe:\n",
    "        exe.submit(cube,2)\n",
    "        \n",
    "        # Maps the method 'cube' with a list of values.\n",
    "        result = exe.map(cube,values)\n",
    "    \n",
    "    for r in result:\n",
    "      print(r)\n",
    "\n",
    "\n"
   ]
  },
  {
   "cell_type": "code",
   "execution_count": null,
   "id": "131f8d04-9af6-427b-9029-4176d5075da6",
   "metadata": {},
   "outputs": [],
   "source": [
    "#8. Create a Python program that uses multiprocessing.Pool to compute the square of numbers from 1 to 10 in\n",
    "#parallel. Measure the time taken to perform this computation using a pool of different sizes (e.g., 2, 4, 8\n",
    "#processes).\n",
    "\n",
    "if __name__ == \"__main__\":\n",
    "  \n",
    "    # creating a pool object\n",
    "    p = multiprocessing.Pool(processes=4)\n",
    "  \n",
    "    # Run all setups\n",
    "    # 10 > 4 available processes !\n",
    "    setup_results = [p.apply_async(setup) for i in range(10)]\n",
    "        \n",
    "    # Run all computes\n",
    "    compute_results = [p.apply_async(compute) for i in range(10)]"
   ]
  },
  {
   "cell_type": "code",
   "execution_count": null,
   "id": "c346f510-73ae-412c-9143-8214966a8fc8",
   "metadata": {},
   "outputs": [],
   "source": []
  }
 ],
 "metadata": {
  "kernelspec": {
   "display_name": "Python 3 (ipykernel)",
   "language": "python",
   "name": "python3"
  },
  "language_info": {
   "codemirror_mode": {
    "name": "ipython",
    "version": 3
   },
   "file_extension": ".py",
   "mimetype": "text/x-python",
   "name": "python",
   "nbconvert_exporter": "python",
   "pygments_lexer": "ipython3",
   "version": "3.12.4"
  }
 },
 "nbformat": 4,
 "nbformat_minor": 5
}
